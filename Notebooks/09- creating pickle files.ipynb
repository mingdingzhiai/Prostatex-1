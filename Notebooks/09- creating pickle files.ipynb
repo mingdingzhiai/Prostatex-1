{
  "nbformat": 4,
  "nbformat_minor": 0,
  "metadata": {
    "colab": {
      "name": "09- creating pickle files.ipynb",
      "version": "0.3.2",
      "provenance": []
    },
    "language_info": {
      "codemirror_mode": {
        "name": "ipython",
        "version": 3
      },
      "file_extension": ".py",
      "mimetype": "text/x-python",
      "name": "python",
      "nbconvert_exporter": "python",
      "pygments_lexer": "ipython3",
      "version": "3.7.3"
    },
    "kernelspec": {
      "display_name": "Python 3",
      "language": "python",
      "name": "python3"
    }
  },
  "cells": [
    {
      "cell_type": "code",
      "metadata": {
        "id": "vRRxgQKvO6FX",
        "colab_type": "code",
        "colab": {}
      },
      "source": [
        "import numpy as np\n",
        "import pandas as pd\n",
        "import os\n",
        "import matplotlib.pyplot as plt\n",
        "import SimpleITK as sitk\n",
        "from sklearn.naive_bayes import GaussianNB\n",
        "from sklearn import svm\n",
        "from sklearn import tree\n",
        "from sklearn.ensemble import RandomForestClassifier\n",
        "from sklearn import neighbors\n",
        "from IPython.display import clear_output"
      ],
      "execution_count": 0,
      "outputs": []
    },
    {
      "cell_type": "code",
      "metadata": {
        "id": "5slKY7M-O6Fa",
        "colab_type": "code",
        "colab": {}
      },
      "source": [
        "def read_kImage(path):\n",
        "    # Reads the image using SimpleITK\n",
        "    itkimage = sitk.ReadImage(path)\n",
        "    # Convert the image to a  numpy array first and then shuffle the dimensions to get axis in the order z,y,x\n",
        "    ct_scan = sitk.GetArrayFromImage(itkimage)\n",
        "    return ct_scan"
      ],
      "execution_count": 0,
      "outputs": []
    },
    {
      "cell_type": "code",
      "metadata": {
        "id": "Il7TSBMeO6Fd",
        "colab_type": "code",
        "colab": {}
      },
      "source": [
        "def extract_voxel_data(series_path):\n",
        "    reader = sitk.ImageSeriesReader()\n",
        "    dicom_names = reader.GetGDCMSeriesFileNames( series_path )\n",
        "    reader.SetFileNames(dicom_names)\n",
        "    image = reader.Execute()\n",
        "    image_3d = sitk.GetArrayFromImage(image)\n",
        "    return image_3d"
      ],
      "execution_count": 0,
      "outputs": []
    },
    {
      "cell_type": "code",
      "metadata": {
        "id": "P3XjsQ0RO6Ff",
        "colab_type": "code",
        "colab": {}
      },
      "source": [
        "def normalize_image(image_3D):\n",
        "    z,y,x = image_3D.shape\n",
        "    new_image_3D = np.empty(shape = (z,y,x) )\n",
        "    target_min = -1\n",
        "    target_max = 1\n",
        "    for i in range (z):\n",
        "        max_value = np.max (image_3D[i])\n",
        "        min_value = np.min (image_3D[i])\n",
        "        new_image_3D[i] = (image_3D[i] - min_value)*(float(target_max - target_min)/(max_value - min_value)) + target_min\n",
        "    return new_image_3D"
      ],
      "execution_count": 0,
      "outputs": []
    },
    {
      "cell_type": "code",
      "metadata": {
        "id": "rNzt46GBO6Fh",
        "colab_type": "code",
        "colab": {}
      },
      "source": [
        "def subvoxel (img_3d,ijk, window):\n",
        "    ijk = ijk.split()\n",
        "    x = int(ijk[0])\n",
        "    y = int(ijk[1])\n",
        "    z = int(ijk[2])\n",
        "    if (z < 0):\n",
        "        z = z*(-1)\n",
        "    new_img3d = np.empty(shape = (3,img_3d.shape[1], img_3d.shape[2]))\n",
        "    max_bandwith = img_3d.shape[0] - 1\n",
        "    if ( z == max_bandwith ):\n",
        "        new_img3d[0,:,:] = img_3d[z-1,:,:] #n-1\n",
        "        new_img3d[1,:,:] = img_3d[z,:,:] #n\n",
        "        new_img3d[2,:,:] = img_3d[z,:,:] #n\n",
        "    else:\n",
        "        if (z == 0):\n",
        "            new_img3d[0,:,:] = img_3d[z,:,:] #0\n",
        "            new_img3d[1,:,:] = img_3d[z,:,:] #0\n",
        "            new_img3d[2,:,:] = img_3d[z+1,:,:] #1\n",
        "        else:\n",
        "            new_img3d[0,:,:] = img_3d[z-1,:,:] #n-1\n",
        "            new_img3d[1,:,:] = img_3d[z,:,:] #n\n",
        "            new_img3d[2,:,:] = img_3d[z+1,:,:] #n+1\n",
        "    window = window//2\n",
        "    new_img3d = new_img3d[:, y-window : y+window, x-window : x+window]\n",
        "    return new_img3d"
      ],
      "execution_count": 0,
      "outputs": []
    },
    {
      "cell_type": "code",
      "metadata": {
        "id": "HDIGa5rIO6Fj",
        "colab_type": "code",
        "colab": {}
      },
      "source": [
        "def generate_training_dataframes():\n",
        "    basedir = \"../1/train/ProstateX-TrainingLesionInformationv2/ProstateX-TrainingLesionInformationv2\"\n",
        "    findingsfile = \"{}/{}\".format(basedir,\"ProstateX-Findings-Train.csv\")\n",
        "    imagesfile = \"{}/{}\".format(basedir,\"ProstateX-Images-Train.csv\")\n",
        "    kimagesfile = \"{}/{}\".format(basedir,\"ProstateX-Images-KTrans-Train.csv\")\n",
        "    #Generamos las 3 tablas básicas a partir de los archivos.cvs\n",
        "    findings_table = pd.read_csv(findingsfile)\n",
        "    images_table = pd.read_csv(imagesfile)\n",
        "    kimages_table = pd.read_csv(kimagesfile)\n",
        "    #Operación de inner join entre tablas.\n",
        "    join_kimages_table = pd.merge(left=findings_table, right= kimages_table, how =\"inner\", on=[\"ProxID\",\"fid\"])\n",
        "    join_images_table =  pd.merge(left=findings_table, right=  images_table, how =\"inner\", on=[\"ProxID\",\"fid\"])\n",
        "    #agregamos una columna para insertar la imagen\n",
        "    #agregamos una columna para los parches\n",
        "    #agregamos otra columna para la integridad de los datos\n",
        "    #agregamos otra columna para las predicciones\n",
        "    join_images_table[\"MRI3D\"] = pd.Series(np.zeros((len(join_images_table),2,2,2)).tolist(), index= join_images_table.index)\n",
        "    join_images_table[\"MRIPatch3D\"] = pd.Series(np.zeros((len(join_images_table),2,2,2)).tolist(), index= join_images_table.index)\n",
        "    join_images_table[\"State\"] = pd.Series(False, index= join_images_table.index)\n",
        "    join_images_table[\"InterestSequence\"] = pd.Series(False, index= join_images_table.index)\n",
        "    join_images_table[\"Predictions\"] = pd.Series(0, index= join_images_table.index)\n",
        "    join_kimages_table[\"Kimg3D\"] = pd.Series(np.zeros((len(join_kimages_table),2,2,2)).tolist(), index= join_kimages_table.index)\n",
        "    join_kimages_table[\"KimgPatch3D\"] = pd.Series(np.zeros((len(join_kimages_table),2,2,2)).tolist(), index= join_kimages_table.index)\n",
        "    join_kimages_table[\"State\"] = pd.Series(False, index= join_kimages_table.index)\n",
        "    join_kimages_table[\"Predictions\"] = pd.Series(0, index= join_kimages_table.index)\n",
        "    return join_images_table, join_kimages_table"
      ],
      "execution_count": 0,
      "outputs": []
    },
    {
      "cell_type": "code",
      "metadata": {
        "id": "bgLM-FnfO6Fm",
        "colab_type": "code",
        "colab": {}
      },
      "source": [
        "def generate_testing_dataframes():\n",
        "    basedir = \"../1/test/ProstateX-TestLesionInformation/ProstateX-TestLesionInformation\"\n",
        "    findingsfile = \"{}/{}\".format(basedir,\"ProstateX-Findings-Test.csv\")\n",
        "    imagesfile = \"{}/{}\".format(basedir,\"ProstateX-Images-Test.csv\")\n",
        "    kimagesfile = \"{}/{}\".format(basedir,\"ProstateX-Images-KTrans-Test.csv\")\n",
        "    #Generamos las 3 tablas básicas a partir de los archivos.cvs\n",
        "    findings_table = pd.read_csv(findingsfile)\n",
        "    images_table = pd.read_csv(imagesfile)\n",
        "    kimages_table = pd.read_csv(kimagesfile)\n",
        "    #Operación de inner join entre tablas.\n",
        "    join_kimages_table = pd.merge(left=findings_table, right= kimages_table, how =\"inner\", on=[\"ProxID\",\"fid\"])\n",
        "    join_images_table =  pd.merge(left=findings_table, right=  images_table, how =\"inner\", on=[\"ProxID\",\"fid\"])\n",
        "    #agregamos una columna para insertar la imagen\n",
        "    join_images_table[\"MRI3D\"] = pd.Series(np.zeros((len(join_images_table),2,2,2)).tolist(), index= join_images_table.index)\n",
        "    join_images_table[\"MRIPatch3D\"] = pd.Series(np.zeros((len(join_images_table),2,2,2)).tolist(), index= join_images_table.index)\n",
        "    join_images_table[\"State\"] = pd.Series(False, index= join_images_table.index)\n",
        "    join_images_table[\"InterestSequence\"] = pd.Series(False, index= join_images_table.index)\n",
        "    join_kimages_table[\"Kimg3D\"] = pd.Series(np.zeros((len(join_kimages_table),2,2,2)).tolist(), index= join_kimages_table.index)\n",
        "    join_kimages_table[\"KimgPatch3D\"] = pd.Series(np.zeros((len(join_kimages_table),2,2,2)).tolist(), index= join_kimages_table.index)\n",
        "    join_kimages_table[\"State\"] = pd.Series(False, index= join_kimages_table.index)\n",
        "    return join_images_table, join_kimages_table"
      ],
      "execution_count": 0,
      "outputs": []
    },
    {
      "cell_type": "code",
      "metadata": {
        "id": "ATWveKfbO6Fo",
        "colab_type": "code",
        "colab": {}
      },
      "source": [
        "def isValid_data(img_3d, ijk):\n",
        "    state = False\n",
        "    k_string = ijk.split()[2]\n",
        "    max_bandwith = img_3d.shape[0] -1\n",
        "    possible_k = int (k_string)\n",
        "    if (possible_k >= max_bandwith):\n",
        "        possible_k = max_bandwith\n",
        "        slice_index = possible_k\n",
        "        state = True\n",
        "        print(\"The ijk requested is [{}], there was an error since the shapes of the image is {}\".format(ijk,str(img_3d.shape)))\n",
        "    else:\n",
        "        if possible_k >= 0:\n",
        "            slice_index = possible_k\n",
        "            print(\"The ijk requested is [{}],OK since shapes of the image is {}\".format(ijk,str(img_3d.shape)))\n",
        "        else:\n",
        "            state = False\n",
        "            print(\"The ijk requested is [{}],OK since shapes of the image is {}\".format(ijk,str(img_3d.shape)))\n",
        "    return state"
      ],
      "execution_count": 0,
      "outputs": []
    },
    {
      "cell_type": "code",
      "metadata": {
        "id": "bAmIK4sBO6Fq",
        "colab_type": "code",
        "colab": {}
      },
      "source": [
        "def set_MRI_value(dataFrame,index,image3d,state,window):\n",
        "    row = dataFrame.iloc[index]\n",
        "    dataFrame.at[index,\"MRI3D\"] = image3d\n",
        "    dataFrame.at[index,\"State\"] = state\n",
        "    if state == False:\n",
        "        dataFrame.at[index,\"MRIPatch3D\"] = subvoxel(img_3d=image3d, ijk=row.ijk, window=window)\n",
        "    else:\n",
        "        dataFrame.at[index,\"MRIPatch3D\"] = np.zeros(shape= (window,image3d.shape[0],image3d.shape[1]))\n",
        "    "
      ],
      "execution_count": 0,
      "outputs": []
    },
    {
      "cell_type": "code",
      "metadata": {
        "id": "cSX7wIhkO6Fs",
        "colab_type": "code",
        "colab": {}
      },
      "source": [
        "def set_kImg_value(dataFrame,index,image3d,state, window):\n",
        "    row = dataFrame.iloc[index]\n",
        "    dataFrame.at[index,\"Kimg3D\"] = image3d\n",
        "    dataFrame.at[index,\"State\"] = state\n",
        "    if state == False:\n",
        "        dataFrame.at[index,\"KimgPatch3D\"] = subvoxel(img_3d=image3d, ijk=row.ijk, window=window)\n",
        "    else:\n",
        "        dataFrame.at[index,\"KimgPatch3D\"] = np.empty(shape= image3d.shape)\n",
        "    "
      ],
      "execution_count": 0,
      "outputs": []
    },
    {
      "cell_type": "code",
      "metadata": {
        "id": "C8qZaDiGO6Fw",
        "colab_type": "code",
        "colab": {}
      },
      "source": [
        "def fill_ktrans_images_dataframe_at_training(dataFrame, window):\n",
        "    if window == None:\n",
        "        window = 40\n",
        "    for row in range(len(dataFrame)):\n",
        "        path = \"../1/train/ProstateXKtrains-train-fixed\"\n",
        "        patient_id = dataFrame.ProxID.iloc[row]\n",
        "        ijk = dataFrame.ijk.iloc[row]\n",
        "        path = \"{}/{}\".format(path,patient_id)\n",
        "        path = \"{}/{}-Ktrans.mhd\".format(path,patient_id)\n",
        "        kimage_3d = read_kImage(path)\n",
        "        kimage_3d = normalize_image(kimage_3d)\n",
        "        state =  isValid_data(kimage_3d,ijk)\n",
        "        set_kImg_value(dataFrame,row,kimage_3d,state,window)\n",
        "        print(\"Se ha cargado la k-trans imagen3d #{} para el paciente {} \".format(row,patient_id))\n",
        "        del path,patient_id,kimage_3d,state\n"
      ],
      "execution_count": 0,
      "outputs": []
    },
    {
      "cell_type": "code",
      "metadata": {
        "id": "DSqEyaTHO6Fz",
        "colab_type": "code",
        "colab": {}
      },
      "source": [
        "def fill_ktrans_images_dataframe_at_testing(dataFrame, window):\n",
        "    for row in range(len(dataFrame)):\n",
        "        path = \"../1/test/ProstateXKtrans-test-fixedv2/ProstateXKtrans-test-fixedv2\"\n",
        "        patient_id = dataFrame.ProxID.iloc[row]\n",
        "        ijk = dataFrame.ijk.iloc[row]\n",
        "        path = \"{}/{}\".format(path,patient_id)\n",
        "        path = \"{}/{}-Ktrans.mhd\".format(path,patient_id)\n",
        "        kimage_3d = read_kImage(path)\n",
        "        kimage_3d = normalize_image(kimage_3d)\n",
        "        state =  isValid_data(kimage_3d,ijk)\n",
        "        set_kImg_value(dataFrame,row,kimage_3d,state, window)\n",
        "        print(\"Se ha cargado la k-trans imagen3d #{} para el paciente {} \".format(row,patient_id))\n",
        "        del path,patient_id,kimage_3d,state\n"
      ],
      "execution_count": 0,
      "outputs": []
    },
    {
      "cell_type": "code",
      "metadata": {
        "id": "Y-mTvLvEO6F0",
        "colab_type": "code",
        "colab": {}
      },
      "source": [
        "training_MRI_imgs_dataframe, training_ktrans_imgs_dataframe = generate_training_dataframes()\n",
        "#testing_MRI_imgs_dataframe, testing_ktrans_imgs_dataframe = generate_testing_dataframes()"
      ],
      "execution_count": 0,
      "outputs": []
    },
    {
      "cell_type": "code",
      "metadata": {
        "id": "IHXQ4vxeO6F2",
        "colab_type": "code",
        "colab": {},
        "outputId": "7bcdd15f-4c3b-49d2-c991-4c8ee56d951c"
      },
      "source": [
        "window = 40\n",
        "fill_ktrans_images_dataframe_at_training(dataFrame = training_ktrans_imgs_dataframe , window =window)\n",
        "#fill_ktrans_images_dataframe_at_testing(dataFrame = testing_ktrans_imgs_dataframe, window = window)\n",
        "clear_output()\n",
        "print (\"All the Ktrans training images were read correctly\")\n",
        "print (\"All the Ktrans testing images were read correctly\")\n",
        "training_ktrans_imgs_dataframe = training_ktrans_imgs_dataframe[ training_ktrans_imgs_dataframe.State == False]\n",
        "training_ktrans_imgs_dataframe.reset_index(drop=True)\n",
        "training_ktrans_imgs_dataframe.index = pd.RangeIndex(len(training_ktrans_imgs_dataframe))\n",
        "display(training_ktrans_imgs_dataframe[[\"ProxID\", \"fid\", \"ijk\", \"ClinSig\"]].iloc[35:60])"
      ],
      "execution_count": 0,
      "outputs": [
        {
          "output_type": "stream",
          "text": [
            "All the Ktrans training images were read correctly\n",
            "All the Ktrans testing images were read correctly\n"
          ],
          "name": "stdout"
        },
        {
          "output_type": "display_data",
          "data": {
            "text/html": [
              "<div>\n",
              "<style scoped>\n",
              "    .dataframe tbody tr th:only-of-type {\n",
              "        vertical-align: middle;\n",
              "    }\n",
              "\n",
              "    .dataframe tbody tr th {\n",
              "        vertical-align: top;\n",
              "    }\n",
              "\n",
              "    .dataframe thead th {\n",
              "        text-align: right;\n",
              "    }\n",
              "</style>\n",
              "<table border=\"1\" class=\"dataframe\">\n",
              "  <thead>\n",
              "    <tr style=\"text-align: right;\">\n",
              "      <th></th>\n",
              "      <th>ProxID</th>\n",
              "      <th>fid</th>\n",
              "      <th>ijk</th>\n",
              "      <th>ClinSig</th>\n",
              "    </tr>\n",
              "  </thead>\n",
              "  <tbody>\n",
              "    <tr>\n",
              "      <th>35</th>\n",
              "      <td>ProstateX-0025</td>\n",
              "      <td>1</td>\n",
              "      <td>67 88 -7</td>\n",
              "      <td>False</td>\n",
              "    </tr>\n",
              "    <tr>\n",
              "      <th>36</th>\n",
              "      <td>ProstateX-0025</td>\n",
              "      <td>1</td>\n",
              "      <td>75 79 7</td>\n",
              "      <td>False</td>\n",
              "    </tr>\n",
              "    <tr>\n",
              "      <th>37</th>\n",
              "      <td>ProstateX-0025</td>\n",
              "      <td>1</td>\n",
              "      <td>81 77 7</td>\n",
              "      <td>False</td>\n",
              "    </tr>\n",
              "    <tr>\n",
              "      <th>38</th>\n",
              "      <td>ProstateX-0025</td>\n",
              "      <td>1</td>\n",
              "      <td>67 88 -7</td>\n",
              "      <td>False</td>\n",
              "    </tr>\n",
              "    <tr>\n",
              "      <th>39</th>\n",
              "      <td>ProstateX-0025</td>\n",
              "      <td>1</td>\n",
              "      <td>75 79 7</td>\n",
              "      <td>False</td>\n",
              "    </tr>\n",
              "    <tr>\n",
              "      <th>40</th>\n",
              "      <td>ProstateX-0025</td>\n",
              "      <td>1</td>\n",
              "      <td>81 77 7</td>\n",
              "      <td>False</td>\n",
              "    </tr>\n",
              "    <tr>\n",
              "      <th>41</th>\n",
              "      <td>ProstateX-0025</td>\n",
              "      <td>2</td>\n",
              "      <td>57 89 -7</td>\n",
              "      <td>False</td>\n",
              "    </tr>\n",
              "    <tr>\n",
              "      <th>42</th>\n",
              "      <td>ProstateX-0025</td>\n",
              "      <td>2</td>\n",
              "      <td>71 79 7</td>\n",
              "      <td>False</td>\n",
              "    </tr>\n",
              "    <tr>\n",
              "      <th>43</th>\n",
              "      <td>ProstateX-0025</td>\n",
              "      <td>3</td>\n",
              "      <td>46 80 -7</td>\n",
              "      <td>False</td>\n",
              "    </tr>\n",
              "    <tr>\n",
              "      <th>44</th>\n",
              "      <td>ProstateX-0025</td>\n",
              "      <td>3</td>\n",
              "      <td>60 70 8</td>\n",
              "      <td>False</td>\n",
              "    </tr>\n",
              "    <tr>\n",
              "      <th>45</th>\n",
              "      <td>ProstateX-0025</td>\n",
              "      <td>4</td>\n",
              "      <td>66 70 -12</td>\n",
              "      <td>False</td>\n",
              "    </tr>\n",
              "    <tr>\n",
              "      <th>46</th>\n",
              "      <td>ProstateX-0025</td>\n",
              "      <td>4</td>\n",
              "      <td>80 61 2</td>\n",
              "      <td>False</td>\n",
              "    </tr>\n",
              "    <tr>\n",
              "      <th>47</th>\n",
              "      <td>ProstateX-0026</td>\n",
              "      <td>1</td>\n",
              "      <td>59 66 5</td>\n",
              "      <td>True</td>\n",
              "    </tr>\n",
              "    <tr>\n",
              "      <th>48</th>\n",
              "      <td>ProstateX-0027</td>\n",
              "      <td>1</td>\n",
              "      <td>54 82 8</td>\n",
              "      <td>False</td>\n",
              "    </tr>\n",
              "    <tr>\n",
              "      <th>49</th>\n",
              "      <td>ProstateX-0028</td>\n",
              "      <td>1</td>\n",
              "      <td>79 70 6</td>\n",
              "      <td>True</td>\n",
              "    </tr>\n",
              "    <tr>\n",
              "      <th>50</th>\n",
              "      <td>ProstateX-0028</td>\n",
              "      <td>2</td>\n",
              "      <td>51 71 7</td>\n",
              "      <td>False</td>\n",
              "    </tr>\n",
              "    <tr>\n",
              "      <th>51</th>\n",
              "      <td>ProstateX-0029</td>\n",
              "      <td>1</td>\n",
              "      <td>72 78 10</td>\n",
              "      <td>False</td>\n",
              "    </tr>\n",
              "    <tr>\n",
              "      <th>52</th>\n",
              "      <td>ProstateX-0030</td>\n",
              "      <td>1</td>\n",
              "      <td>74 67 10</td>\n",
              "      <td>False</td>\n",
              "    </tr>\n",
              "    <tr>\n",
              "      <th>53</th>\n",
              "      <td>ProstateX-0031</td>\n",
              "      <td>1</td>\n",
              "      <td>77 69 11</td>\n",
              "      <td>True</td>\n",
              "    </tr>\n",
              "    <tr>\n",
              "      <th>54</th>\n",
              "      <td>ProstateX-0031</td>\n",
              "      <td>2</td>\n",
              "      <td>55 70 11</td>\n",
              "      <td>False</td>\n",
              "    </tr>\n",
              "    <tr>\n",
              "      <th>55</th>\n",
              "      <td>ProstateX-0032</td>\n",
              "      <td>1</td>\n",
              "      <td>77 81 14</td>\n",
              "      <td>False</td>\n",
              "    </tr>\n",
              "    <tr>\n",
              "      <th>56</th>\n",
              "      <td>ProstateX-0033</td>\n",
              "      <td>1</td>\n",
              "      <td>55 75 6</td>\n",
              "      <td>False</td>\n",
              "    </tr>\n",
              "    <tr>\n",
              "      <th>57</th>\n",
              "      <td>ProstateX-0033</td>\n",
              "      <td>3</td>\n",
              "      <td>71 69 5</td>\n",
              "      <td>False</td>\n",
              "    </tr>\n",
              "    <tr>\n",
              "      <th>58</th>\n",
              "      <td>ProstateX-0034</td>\n",
              "      <td>1</td>\n",
              "      <td>68 80 12</td>\n",
              "      <td>False</td>\n",
              "    </tr>\n",
              "    <tr>\n",
              "      <th>59</th>\n",
              "      <td>ProstateX-0035</td>\n",
              "      <td>1</td>\n",
              "      <td>50 66 7</td>\n",
              "      <td>True</td>\n",
              "    </tr>\n",
              "  </tbody>\n",
              "</table>\n",
              "</div>"
            ],
            "text/plain": [
              "            ProxID  fid        ijk  ClinSig\n",
              "35  ProstateX-0025    1   67 88 -7    False\n",
              "36  ProstateX-0025    1    75 79 7    False\n",
              "37  ProstateX-0025    1    81 77 7    False\n",
              "38  ProstateX-0025    1   67 88 -7    False\n",
              "39  ProstateX-0025    1    75 79 7    False\n",
              "40  ProstateX-0025    1    81 77 7    False\n",
              "41  ProstateX-0025    2   57 89 -7    False\n",
              "42  ProstateX-0025    2    71 79 7    False\n",
              "43  ProstateX-0025    3   46 80 -7    False\n",
              "44  ProstateX-0025    3    60 70 8    False\n",
              "45  ProstateX-0025    4  66 70 -12    False\n",
              "46  ProstateX-0025    4    80 61 2    False\n",
              "47  ProstateX-0026    1    59 66 5     True\n",
              "48  ProstateX-0027    1    54 82 8    False\n",
              "49  ProstateX-0028    1    79 70 6     True\n",
              "50  ProstateX-0028    2    51 71 7    False\n",
              "51  ProstateX-0029    1   72 78 10    False\n",
              "52  ProstateX-0030    1   74 67 10    False\n",
              "53  ProstateX-0031    1   77 69 11     True\n",
              "54  ProstateX-0031    2   55 70 11    False\n",
              "55  ProstateX-0032    1   77 81 14    False\n",
              "56  ProstateX-0033    1    55 75 6    False\n",
              "57  ProstateX-0033    3    71 69 5    False\n",
              "58  ProstateX-0034    1   68 80 12    False\n",
              "59  ProstateX-0035    1    50 66 7     True"
            ]
          },
          "metadata": {
            "tags": []
          }
        }
      ]
    },
    {
      "cell_type": "code",
      "metadata": {
        "id": "zN5hvCvPO6F6",
        "colab_type": "code",
        "colab": {}
      },
      "source": [
        "def fill_MRI_images_dataframe_at_training(dataFrame, window):\n",
        "    for row in range (len(dataFrame)):\n",
        "        print(\"===============================================================\")\n",
        "        patient_id = dataFrame.ProxID.iloc[row]\n",
        "        series_name = dataFrame.DCMSerDescr.iloc[row]\n",
        "        series_id = dataFrame.DCMSerNum.iloc[row]\n",
        "        slice_ijk = dataFrame.ijk.iloc[row]\n",
        "        sequence_name = dataFrame.Name.iloc[row]\n",
        "        path = \"../1/train/PROSTATEx/{}/\".format(patient_id)#Selects the Patient ID\n",
        "        path = \"{}/{}\".format(path,os.listdir(path)[0])#Selects the default folder inside the patient\n",
        "        sequences = os.listdir(path) # Selects all the sequences\n",
        "        #sequence = [ sequence for sequence in sequences if sequence[0:len(str(series_id))] == str(series_id) ] [0]\n",
        "        for sequence in sequences:\n",
        "            sequence_id = sequence[0:len(str(series_id))]\n",
        "            if (str(sequence_id) == str(series_id)):\n",
        "                print (\"The condition is true {} = {}\".format(sequence_id,series_id))\n",
        "                print (\"The sequence selected is {}\".format(sequence))\n",
        "                print (\"The requested sequence is {}\".format(sequence_name))\n",
        "                break\n",
        "        # Selects the only sequence that matches the condition.\n",
        "        path = \"{}/{}\".format(path,sequence)\n",
        "        image_3d = extract_voxel_data(path)\n",
        "        state = isValid_data(ijk=slice_ijk, img_3d=image_3d)\n",
        "        set_MRI_value(dataFrame,row,image_3d,state,40)\n",
        "        print(\"Se ha cargado la imagen MRI3D y MRI3DPATCH #{} para el paciente {} serie: {} \".format(row,patient_id,series_name))\n",
        "        del path, patient_id, series_name, series_id,sequence,sequences, image_3d"
      ],
      "execution_count": 0,
      "outputs": []
    },
    {
      "cell_type": "code",
      "metadata": {
        "id": "cqGo9AtdO6F8",
        "colab_type": "code",
        "colab": {}
      },
      "source": [
        "def fill_MRI_images_dataframe_at_testing(dataFrame, window):\n",
        "    for row in range (len(dataFrame)):\n",
        "        print(\"===============================================================\")\n",
        "        patient_id = dataFrame.ProxID.iloc[row]\n",
        "        series_name = dataFrame.DCMSerDescr.iloc[row]\n",
        "        sequence_name = dataFrame.Name.iloc[row]\n",
        "        series_id = dataFrame.DCMSerNum.iloc[row]\n",
        "        slice_ijk = dataFrame.ijk.iloc[row]\n",
        "        path = \"../1/test/PROSTATEx/{}\".format(patient_id)#Selects the Patient ID\n",
        "        path = \"{}/{}\".format(path,os.listdir(path)[0])#Selects the default folder inside the patient\n",
        "        sequences = os.listdir(path) # Selects all the sequences\n",
        "        for sequence in sequences:\n",
        "            sequence_id = sequence[0:len(str(series_id))]\n",
        "            if (str(sequence_id) == str(series_id)):\n",
        "                print (\"The condition is true {} = {}\".format(sequence_id,series_id))\n",
        "                print (\"The sequence selected is {}\".format(sequence))\n",
        "                print (\"The requested sequence is {}\".format(sequence_name))\n",
        "                break\n",
        "        # Selects the only sequence that matches the condition.\n",
        "        path = \"{}/{}\".format(path,sequence)\n",
        "        image_3d = extract_voxel_data(path)\n",
        "        state = isValid_data(ijk=slice_ijk, img_3d=image_3d)\n",
        "        set_MRI_value(dataFrame,row,image_3d,state,40)\n",
        "        print(\"Se ha cargado la imagen MRI3D y MRI3DPATCH #{} para el paciente {} serie: {} \".format(row,patient_id,series_name))\n",
        "        del path, patient_id, series_name, series_id,sequence,sequences, image_3d"
      ],
      "execution_count": 0,
      "outputs": []
    },
    {
      "cell_type": "code",
      "metadata": {
        "id": "vEq7nuG1O6F-",
        "colab_type": "code",
        "colab": {},
        "outputId": "a80b4dde-7ecd-42a4-9aee-e7e1988537e4"
      },
      "source": [
        "fill_MRI_images_dataframe_at_training(dataFrame = training_MRI_imgs_dataframe, window = window)\n",
        "#fill_MRI_images_dataframe_at_testing(dataFrame = testing_MRI_imgs_dataframe, window = window)\n",
        "clear_output()\n",
        "print (\"All the MRI training images were read correctly\")\n",
        "print (\"All the MRI testing images were read correctly\")\n",
        "training_MRI_imgs_dataframe =training_MRI_imgs_dataframe[ training_MRI_imgs_dataframe.State == False]\n",
        "training_MRI_imgs_dataframe.reset_index(drop=True)\n",
        "training_MRI_imgs_dataframe.index = pd.RangeIndex(len(training_MRI_imgs_dataframe))\n",
        "display(training_MRI_imgs_dataframe[[\"ProxID\", \"fid\", \"ijk\", \"ClinSig\"]].iloc[35:60])\n"
      ],
      "execution_count": 0,
      "outputs": [
        {
          "output_type": "stream",
          "text": [
            "All the MRI training images were read correctly\n",
            "All the MRI testing images were read correctly\n"
          ],
          "name": "stdout"
        },
        {
          "output_type": "display_data",
          "data": {
            "text/html": [
              "<div>\n",
              "<style scoped>\n",
              "    .dataframe tbody tr th:only-of-type {\n",
              "        vertical-align: middle;\n",
              "    }\n",
              "\n",
              "    .dataframe tbody tr th {\n",
              "        vertical-align: top;\n",
              "    }\n",
              "\n",
              "    .dataframe thead th {\n",
              "        text-align: right;\n",
              "    }\n",
              "</style>\n",
              "<table border=\"1\" class=\"dataframe\">\n",
              "  <thead>\n",
              "    <tr style=\"text-align: right;\">\n",
              "      <th></th>\n",
              "      <th>ProxID</th>\n",
              "      <th>fid</th>\n",
              "      <th>ijk</th>\n",
              "      <th>ClinSig</th>\n",
              "    </tr>\n",
              "  </thead>\n",
              "  <tbody>\n",
              "    <tr>\n",
              "      <th>35</th>\n",
              "      <td>ProstateX-0002</td>\n",
              "      <td>2</td>\n",
              "      <td>45 70 9</td>\n",
              "      <td>False</td>\n",
              "    </tr>\n",
              "    <tr>\n",
              "      <th>36</th>\n",
              "      <td>ProstateX-0002</td>\n",
              "      <td>2</td>\n",
              "      <td>134 137 1</td>\n",
              "      <td>False</td>\n",
              "    </tr>\n",
              "    <tr>\n",
              "      <th>37</th>\n",
              "      <td>ProstateX-0002</td>\n",
              "      <td>2</td>\n",
              "      <td>153 151 0</td>\n",
              "      <td>False</td>\n",
              "    </tr>\n",
              "    <tr>\n",
              "      <th>38</th>\n",
              "      <td>ProstateX-0002</td>\n",
              "      <td>2</td>\n",
              "      <td>170 186 12</td>\n",
              "      <td>False</td>\n",
              "    </tr>\n",
              "    <tr>\n",
              "      <th>39</th>\n",
              "      <td>ProstateX-0002</td>\n",
              "      <td>2</td>\n",
              "      <td>178 169 8</td>\n",
              "      <td>False</td>\n",
              "    </tr>\n",
              "    <tr>\n",
              "      <th>40</th>\n",
              "      <td>ProstateX-0002</td>\n",
              "      <td>2</td>\n",
              "      <td>203 216 10</td>\n",
              "      <td>False</td>\n",
              "    </tr>\n",
              "    <tr>\n",
              "      <th>41</th>\n",
              "      <td>ProstateX-0002</td>\n",
              "      <td>2</td>\n",
              "      <td>68 72 8</td>\n",
              "      <td>False</td>\n",
              "    </tr>\n",
              "    <tr>\n",
              "      <th>42</th>\n",
              "      <td>ProstateX-0003</td>\n",
              "      <td>1</td>\n",
              "      <td>54 68 11</td>\n",
              "      <td>False</td>\n",
              "    </tr>\n",
              "    <tr>\n",
              "      <th>43</th>\n",
              "      <td>ProstateX-0003</td>\n",
              "      <td>1</td>\n",
              "      <td>54 68 11</td>\n",
              "      <td>False</td>\n",
              "    </tr>\n",
              "    <tr>\n",
              "      <th>44</th>\n",
              "      <td>ProstateX-0003</td>\n",
              "      <td>1</td>\n",
              "      <td>54 68 11</td>\n",
              "      <td>False</td>\n",
              "    </tr>\n",
              "    <tr>\n",
              "      <th>45</th>\n",
              "      <td>ProstateX-0003</td>\n",
              "      <td>1</td>\n",
              "      <td>54 68 11</td>\n",
              "      <td>False</td>\n",
              "    </tr>\n",
              "    <tr>\n",
              "      <th>46</th>\n",
              "      <td>ProstateX-0003</td>\n",
              "      <td>1</td>\n",
              "      <td>54 68 11</td>\n",
              "      <td>False</td>\n",
              "    </tr>\n",
              "    <tr>\n",
              "      <th>47</th>\n",
              "      <td>ProstateX-0003</td>\n",
              "      <td>1</td>\n",
              "      <td>149 130 0</td>\n",
              "      <td>False</td>\n",
              "    </tr>\n",
              "    <tr>\n",
              "      <th>48</th>\n",
              "      <td>ProstateX-0003</td>\n",
              "      <td>1</td>\n",
              "      <td>199 154 14</td>\n",
              "      <td>False</td>\n",
              "    </tr>\n",
              "    <tr>\n",
              "      <th>49</th>\n",
              "      <td>ProstateX-0003</td>\n",
              "      <td>1</td>\n",
              "      <td>168 165 3</td>\n",
              "      <td>False</td>\n",
              "    </tr>\n",
              "    <tr>\n",
              "      <th>50</th>\n",
              "      <td>ProstateX-0003</td>\n",
              "      <td>1</td>\n",
              "      <td>240 205 12</td>\n",
              "      <td>False</td>\n",
              "    </tr>\n",
              "    <tr>\n",
              "      <th>51</th>\n",
              "      <td>ProstateX-0003</td>\n",
              "      <td>1</td>\n",
              "      <td>80 69 10</td>\n",
              "      <td>False</td>\n",
              "    </tr>\n",
              "    <tr>\n",
              "      <th>52</th>\n",
              "      <td>ProstateX-0003</td>\n",
              "      <td>2</td>\n",
              "      <td>33 57 16</td>\n",
              "      <td>False</td>\n",
              "    </tr>\n",
              "    <tr>\n",
              "      <th>53</th>\n",
              "      <td>ProstateX-0003</td>\n",
              "      <td>2</td>\n",
              "      <td>33 57 16</td>\n",
              "      <td>False</td>\n",
              "    </tr>\n",
              "    <tr>\n",
              "      <th>54</th>\n",
              "      <td>ProstateX-0003</td>\n",
              "      <td>2</td>\n",
              "      <td>33 57 16</td>\n",
              "      <td>False</td>\n",
              "    </tr>\n",
              "    <tr>\n",
              "      <th>55</th>\n",
              "      <td>ProstateX-0003</td>\n",
              "      <td>2</td>\n",
              "      <td>33 57 16</td>\n",
              "      <td>False</td>\n",
              "    </tr>\n",
              "    <tr>\n",
              "      <th>56</th>\n",
              "      <td>ProstateX-0003</td>\n",
              "      <td>2</td>\n",
              "      <td>33 57 16</td>\n",
              "      <td>False</td>\n",
              "    </tr>\n",
              "    <tr>\n",
              "      <th>57</th>\n",
              "      <td>ProstateX-0003</td>\n",
              "      <td>2</td>\n",
              "      <td>141 116 1</td>\n",
              "      <td>False</td>\n",
              "    </tr>\n",
              "    <tr>\n",
              "      <th>58</th>\n",
              "      <td>ProstateX-0003</td>\n",
              "      <td>2</td>\n",
              "      <td>126 134 7</td>\n",
              "      <td>False</td>\n",
              "    </tr>\n",
              "    <tr>\n",
              "      <th>59</th>\n",
              "      <td>ProstateX-0003</td>\n",
              "      <td>2</td>\n",
              "      <td>147 125 15</td>\n",
              "      <td>False</td>\n",
              "    </tr>\n",
              "  </tbody>\n",
              "</table>\n",
              "</div>"
            ],
            "text/plain": [
              "            ProxID  fid         ijk  ClinSig\n",
              "35  ProstateX-0002    2     45 70 9    False\n",
              "36  ProstateX-0002    2   134 137 1    False\n",
              "37  ProstateX-0002    2   153 151 0    False\n",
              "38  ProstateX-0002    2  170 186 12    False\n",
              "39  ProstateX-0002    2   178 169 8    False\n",
              "40  ProstateX-0002    2  203 216 10    False\n",
              "41  ProstateX-0002    2     68 72 8    False\n",
              "42  ProstateX-0003    1    54 68 11    False\n",
              "43  ProstateX-0003    1    54 68 11    False\n",
              "44  ProstateX-0003    1    54 68 11    False\n",
              "45  ProstateX-0003    1    54 68 11    False\n",
              "46  ProstateX-0003    1    54 68 11    False\n",
              "47  ProstateX-0003    1   149 130 0    False\n",
              "48  ProstateX-0003    1  199 154 14    False\n",
              "49  ProstateX-0003    1   168 165 3    False\n",
              "50  ProstateX-0003    1  240 205 12    False\n",
              "51  ProstateX-0003    1    80 69 10    False\n",
              "52  ProstateX-0003    2    33 57 16    False\n",
              "53  ProstateX-0003    2    33 57 16    False\n",
              "54  ProstateX-0003    2    33 57 16    False\n",
              "55  ProstateX-0003    2    33 57 16    False\n",
              "56  ProstateX-0003    2    33 57 16    False\n",
              "57  ProstateX-0003    2   141 116 1    False\n",
              "58  ProstateX-0003    2   126 134 7    False\n",
              "59  ProstateX-0003    2  147 125 15    False"
            ]
          },
          "metadata": {
            "tags": []
          }
        }
      ]
    },
    {
      "cell_type": "code",
      "metadata": {
        "id": "ocfpDlRnO6GB",
        "colab_type": "code",
        "colab": {},
        "outputId": "602dcffe-9a0d-4443-dc0b-851ef2382cbf"
      },
      "source": [
        "def setup_MRI_series_descriptions():\n",
        "    for i in range (len(training_MRI_imgs_dataframe)):\n",
        "        DCM_description = str.lower( training_MRI_imgs_dataframe.DCMSerDescr.iloc[i] )\n",
        "        DCM_description = DCM_description.replace(\" \",\"_\")\n",
        "        DCM_description = DCM_description.replace(\"-\",\"_\")\n",
        "        training_MRI_imgs_dataframe.at[i,\"DCMSerDescr\"] = DCM_description\n",
        "    print(training_MRI_imgs_dataframe.DCMSerDescr.unique())\n",
        "setup_MRI_series_descriptions()"
      ],
      "execution_count": 0,
      "outputs": [
        {
          "output_type": "stream",
          "text": [
            "['ep2d_diff_tra_dyndist_adc' 'ep2d_diff_tra_dyndist'\n",
            " 'ep2d_diff_tra_dyndistcalc_bval' 't2_tse_cor' 't2_tse_sag' 't2_tse_tra'\n",
            " 'tfl_3d_pd_ref_tra_1.5x1.5_t3' 'ep2d_diff_tra_dyndist_mix_adc'\n",
            " 'ep2d_diff_tra_dyndist_mix' 'ep2d_diff_tra_dyndist_mixcalc_bval'\n",
            " 't2_localizer' 't2_loc_sag' 't2_tse_tra_exacte_copy_diffusie'\n",
            " 't2_loc_tra' 'adc_s3_1' 'adc_s3_2'\n",
            " 'ep2d_diff_tra2x2_noise0_fs_dyndist_adc'\n",
            " 'ep2d_diff_tra2x2_noise0_fs_dyndist'\n",
            " 'ep2d_diff_tra2x2_noise0_fs_dyndistcalc_bval'\n",
            " 'ep2d_diff_tra2x2_noise0_nofs_dyndist_adc'\n",
            " 'ep2d_diff_tra2x2_noise0_nofs_dyndist'\n",
            " 'ep2d_diff_tra2x2_noise0_nofs_dyndistcalc_bval'\n",
            " 'perfusie_t1_twist_1.3x1.3x3_temp_2s_tt=10.2s'\n",
            " 'perfusie_t1_twist_1.3x1.3x3_temp_2s_tt=100.5s'\n",
            " 'perfusie_t1_twist_1.3x1.3x3_temp_2s_tt=101.7s'\n",
            " 'perfusie_t1_twist_1.3x1.3x3_temp_2s_tt=103.0s'\n",
            " 'perfusie_t1_twist_1.3x1.3x3_temp_2s_tt=104.2s'\n",
            " 'perfusie_t1_twist_1.3x1.3x3_temp_2s_tt=105.5s'\n",
            " 'perfusie_t1_twist_1.3x1.3x3_temp_2s_tt=106.8s'\n",
            " 'perfusie_t1_twist_1.3x1.3x3_temp_2s_tt=108.0s'\n",
            " 'perfusie_t1_twist_1.3x1.3x3_temp_2s_tt=109.3s'\n",
            " 'perfusie_t1_twist_1.3x1.3x3_temp_2s_tt=11.5s'\n",
            " 'perfusie_t1_twist_1.3x1.3x3_temp_2s_tt=110.5s'\n",
            " 'perfusie_t1_twist_1.3x1.3x3_temp_2s_tt=111.8s'\n",
            " 'perfusie_t1_twist_1.3x1.3x3_temp_2s_tt=113.0s'\n",
            " 'perfusie_t1_twist_1.3x1.3x3_temp_2s_tt=114.3s'\n",
            " 'perfusie_t1_twist_1.3x1.3x3_temp_2s_tt=115.5s'\n",
            " 'perfusie_t1_twist_1.3x1.3x3_temp_2s_tt=116.8s'\n",
            " 'perfusie_t1_twist_1.3x1.3x3_temp_2s_tt=118.0s'\n",
            " 'perfusie_t1_twist_1.3x1.3x3_temp_2s_tt=119.3s'\n",
            " 'perfusie_t1_twist_1.3x1.3x3_temp_2s_tt=12.7s'\n",
            " 'perfusie_t1_twist_1.3x1.3x3_temp_2s_tt=120.6s'\n",
            " 'perfusie_t1_twist_1.3x1.3x3_temp_2s_tt=121.8s'\n",
            " 'perfusie_t1_twist_1.3x1.3x3_temp_2s_tt=123.1s'\n",
            " 'perfusie_t1_twist_1.3x1.3x3_temp_2s_tt=124.3s'\n",
            " 'perfusie_t1_twist_1.3x1.3x3_temp_2s_tt=125.6s'\n",
            " 'perfusie_t1_twist_1.3x1.3x3_temp_2s_tt=126.8s'\n",
            " 'perfusie_t1_twist_1.3x1.3x3_temp_2s_tt=128.1s'\n",
            " 'perfusie_t1_twist_1.3x1.3x3_temp_2s_tt=129.3s'\n",
            " 'perfusie_t1_twist_1.3x1.3x3_temp_2s_tt=130.6s'\n",
            " 'perfusie_t1_twist_1.3x1.3x3_temp_2s_tt=14.0s'\n",
            " 'perfusie_t1_twist_1.3x1.3x3_temp_2s_tt=15.2s'\n",
            " 'perfusie_t1_twist_1.3x1.3x3_temp_2s_tt=16.5s'\n",
            " 'perfusie_t1_twist_1.3x1.3x3_temp_2s_tt=17.7s'\n",
            " 'perfusie_t1_twist_1.3x1.3x3_temp_2s_tt=19.0s'\n",
            " 'perfusie_t1_twist_1.3x1.3x3_temp_2s_tt=20.2s'\n",
            " 'perfusie_t1_twist_1.3x1.3x3_temp_2s_tt=21.5s'\n",
            " 'perfusie_t1_twist_1.3x1.3x3_temp_2s_tt=22.7s'\n",
            " 'perfusie_t1_twist_1.3x1.3x3_temp_2s_tt=24.0s'\n",
            " 'perfusie_t1_twist_1.3x1.3x3_temp_2s_tt=25.2s'\n",
            " 'perfusie_t1_twist_1.3x1.3x3_temp_2s_tt=26.5s'\n",
            " 'perfusie_t1_twist_1.3x1.3x3_temp_2s_tt=27.8s'\n",
            " 'perfusie_t1_twist_1.3x1.3x3_temp_2s_tt=29.0s'\n",
            " 'perfusie_t1_twist_1.3x1.3x3_temp_2s_tt=30.3s'\n",
            " 'perfusie_t1_twist_1.3x1.3x3_temp_2s_tt=31.5s'\n",
            " 'perfusie_t1_twist_1.3x1.3x3_temp_2s_tt=32.8s'\n",
            " 'perfusie_t1_twist_1.3x1.3x3_temp_2s_tt=34.0s'\n",
            " 'perfusie_t1_twist_1.3x1.3x3_temp_2s_tt=35.3s'\n",
            " 'perfusie_t1_twist_1.3x1.3x3_temp_2s_tt=36.5s'\n",
            " 'perfusie_t1_twist_1.3x1.3x3_temp_2s_tt=37.8s'\n",
            " 'perfusie_t1_twist_1.3x1.3x3_temp_2s_tt=39.0s'\n",
            " 'perfusie_t1_twist_1.3x1.3x3_temp_2s_tt=40.3s'\n",
            " 'perfusie_t1_twist_1.3x1.3x3_temp_2s_tt=41.6s'\n",
            " 'perfusie_t1_twist_1.3x1.3x3_temp_2s_tt=42.8s'\n",
            " 'perfusie_t1_twist_1.3x1.3x3_temp_2s_tt=44.1s'\n",
            " 'perfusie_t1_twist_1.3x1.3x3_temp_2s_tt=45.3s'\n",
            " 'perfusie_t1_twist_1.3x1.3x3_temp_2s_tt=46.6s'\n",
            " 'perfusie_t1_twist_1.3x1.3x3_temp_2s_tt=47.8s'\n",
            " 'perfusie_t1_twist_1.3x1.3x3_temp_2s_tt=49.1s'\n",
            " 'perfusie_t1_twist_1.3x1.3x3_temp_2s_tt=50.3s'\n",
            " 'perfusie_t1_twist_1.3x1.3x3_temp_2s_tt=51.6s'\n",
            " 'perfusie_t1_twist_1.3x1.3x3_temp_2s_tt=52.8s'\n",
            " 'perfusie_t1_twist_1.3x1.3x3_temp_2s_tt=54.1s'\n",
            " 'perfusie_t1_twist_1.3x1.3x3_temp_2s_tt=55.3s'\n",
            " 'perfusie_t1_twist_1.3x1.3x3_temp_2s_tt=56.6s'\n",
            " 'perfusie_t1_twist_1.3x1.3x3_temp_2s_tt=57.9s'\n",
            " 'perfusie_t1_twist_1.3x1.3x3_temp_2s_tt=59.1s'\n",
            " 'perfusie_t1_twist_1.3x1.3x3_temp_2s_tt=6.4s'\n",
            " 'perfusie_t1_twist_1.3x1.3x3_temp_2s_tt=60.4s'\n",
            " 'perfusie_t1_twist_1.3x1.3x3_temp_2s_tt=61.6s'\n",
            " 'perfusie_t1_twist_1.3x1.3x3_temp_2s_tt=62.9s'\n",
            " 'perfusie_t1_twist_1.3x1.3x3_temp_2s_tt=64.1s'\n",
            " 'perfusie_t1_twist_1.3x1.3x3_temp_2s_tt=65.4s'\n",
            " 'perfusie_t1_twist_1.3x1.3x3_temp_2s_tt=66.6s'\n",
            " 'perfusie_t1_twist_1.3x1.3x3_temp_2s_tt=67.9s'\n",
            " 'perfusie_t1_twist_1.3x1.3x3_temp_2s_tt=69.1s'\n",
            " 'perfusie_t1_twist_1.3x1.3x3_temp_2s_tt=7.7s'\n",
            " 'perfusie_t1_twist_1.3x1.3x3_temp_2s_tt=70.4s'\n",
            " 'perfusie_t1_twist_1.3x1.3x3_temp_2s_tt=71.6s'\n",
            " 'perfusie_t1_twist_1.3x1.3x3_temp_2s_tt=72.9s'\n",
            " 'perfusie_t1_twist_1.3x1.3x3_temp_2s_tt=74.2s'\n",
            " 'perfusie_t1_twist_1.3x1.3x3_temp_2s_tt=75.4s'\n",
            " 'perfusie_t1_twist_1.3x1.3x3_temp_2s_tt=76.7s'\n",
            " 'perfusie_t1_twist_1.3x1.3x3_temp_2s_tt=77.9s'\n",
            " 'perfusie_t1_twist_1.3x1.3x3_temp_2s_tt=79.2s'\n",
            " 'perfusie_t1_twist_1.3x1.3x3_temp_2s_tt=8.9s'\n",
            " 'perfusie_t1_twist_1.3x1.3x3_temp_2s_tt=80.4s'\n",
            " 'perfusie_t1_twist_1.3x1.3x3_temp_2s_tt=81.7s'\n",
            " 'perfusie_t1_twist_1.3x1.3x3_temp_2s_tt=82.9s'\n",
            " 'perfusie_t1_twist_1.3x1.3x3_temp_2s_tt=84.2s'\n",
            " 'perfusie_t1_twist_1.3x1.3x3_temp_2s_tt=85.4s'\n",
            " 'perfusie_t1_twist_1.3x1.3x3_temp_2s_tt=86.7s'\n",
            " 'perfusie_t1_twist_1.3x1.3x3_temp_2s_tt=87.9s'\n",
            " 'perfusie_t1_twist_1.3x1.3x3_temp_2s_tt=89.2s'\n",
            " 'perfusie_t1_twist_1.3x1.3x3_temp_2s_tt=90.5s'\n",
            " 'perfusie_t1_twist_1.3x1.3x3_temp_2s_tt=91.7s'\n",
            " 'perfusie_t1_twist_1.3x1.3x3_temp_2s_tt=93.0s'\n",
            " 'perfusie_t1_twist_1.3x1.3x3_temp_2s_tt=94.2s'\n",
            " 'perfusie_t1_twist_1.3x1.3x3_temp_2s_tt=95.5s'\n",
            " 'perfusie_t1_twist_1.3x1.3x3_temp_2s_tt=96.7s'\n",
            " 'perfusie_t1_twist_1.3x1.3x3_temp_2s_tt=98.0s'\n",
            " 'perfusie_t1_twist_1.3x1.3x3_temp_2s_tt=99.2s' 't2_tse_tra_grappa3'\n",
            " 'tfl_3d_pd_ref_tra_1.3x1.3x3' 'diffusie_3scan_4bval_fs_adc'\n",
            " 'diffusie_3scan_4bval_fs' 'diffusie_3scan_4bval_fscalc_bval'\n",
            " 'tfl_3d_dynamisch_fast' 'tfl_3d_pd_reference' 't2_localizer_prostate']\n"
          ],
          "name": "stdout"
        }
      ]
    },
    {
      "cell_type": "code",
      "metadata": {
        "id": "hz_Cd3uvO6GF",
        "colab_type": "code",
        "colab": {}
      },
      "source": [
        "\n",
        "def get_dataframe_given_zone(zone, dataFrame):\n",
        "    dataFrame = dataFrame[dataFrame.zone == zone]\n",
        "    return dataFrame"
      ],
      "execution_count": 0,
      "outputs": []
    },
    {
      "cell_type": "code",
      "metadata": {
        "id": "WWKYv28OO6GH",
        "colab_type": "code",
        "colab": {}
      },
      "source": [
        "def get_data_labels (dataFrame):\n",
        "    indexes = dataFrame.index\n",
        "    data = dataFrame.MRIPatch3D\n",
        "    labels = dataFrame.ClinSig\n",
        "    z,y,x = [3,40,40]\n",
        "    all_data = np.empty(shape= (len(data), z*y*x ) )\n",
        "    all_labels = np.zeros(shape= (len(data) ) )\n",
        "    i = 0\n",
        "    for index in indexes:\n",
        "        all_data[i,:] = data[index].reshape((1,x*y*z))\n",
        "        label = labels [index]\n",
        "        all_labels[i] = label\n",
        "        i = i + 1\n",
        "    return all_data, all_labels"
      ],
      "execution_count": 0,
      "outputs": []
    },
    {
      "cell_type": "code",
      "metadata": {
        "id": "ZJjhthjuO6GL",
        "colab_type": "code",
        "colab": {}
      },
      "source": [
        "def apply_Kfold_cross_validation(data, labels, classifier, kfolds):\n",
        "    from sklearn.model_selection import cross_val_score\n",
        "    #data, labels = get_data_labels(dataframe)\n",
        "\n",
        "    scores = cross_val_score(classifier, data, labels, cv= kfolds)\n",
        "    print(scores)\n",
        "    print(\"Accuracy: %0.2f (+/- %0.2f)\" % (scores.mean(), scores.std() * 2))\n",
        "    return scores, scores.mean()*100, scores.std()*100"
      ],
      "execution_count": 0,
      "outputs": []
    },
    {
      "cell_type": "code",
      "metadata": {
        "id": "OZMpaZoCO6GO",
        "colab_type": "code",
        "colab": {}
      },
      "source": [
        "\n",
        "def create_training_file(dataframe, FileName):\n",
        "    FileName = FileName +\".txt\"\n",
        "    data, labels = get_data_labels (dataframe)\n",
        "    number_of_samples, number_of_features = data.shape\n",
        "    with open(FileName, \"w\") as text_file:\n",
        "        str_line = \"\"\n",
        "        for i in range (number_of_samples):\n",
        "\n",
        "            str_line = \"{} \".format(str(int(labels[i])))\n",
        "            for j in range (number_of_features):\n",
        "                str_line = \"{} {}:{}\".format(str_line, (j+1) , data[i,j])\n",
        "\n",
        "            \n",
        "            text_file.write(str_line)\n",
        "            if (i != len(data)):\n",
        "                text_file.write(\"\\n\")\n",
        "            str_line = \"\"\n",
        "        text_file.close()\n",
        "    print(\"The file {} was succesfully created\".format(FileName))"
      ],
      "execution_count": 0,
      "outputs": []
    },
    {
      "cell_type": "code",
      "metadata": {
        "id": "tnjbh2zjO6GQ",
        "colab_type": "code",
        "colab": {}
      },
      "source": [
        "def plot_ROC_curve(classifier, data_test, labels_test):\n",
        "    from sklearn import metrics\n",
        "    probs = classifier.predict_proba(data_test)\n",
        "    preds = probs[:,1]\n",
        "    fpr, tpr, threshold = metrics.roc_curve(labels_test, preds)\n",
        "    roc_auc = metrics.auc(fpr, tpr)\n",
        "    import matplotlib.pyplot as plt\n",
        "    plt.figure(figsize=(10,10))\n",
        "    plt.title('Receiver Operating Characteristic')\n",
        "    plt.plot(fpr, tpr, 'b', label = 'AUC = %0.2f' % roc_auc)\n",
        "    plt.legend(loc = 'lower right')\n",
        "    plt.plot([0, 1], [0, 1],'r--')\n",
        "    plt.xlim([0, 1])\n",
        "    plt.ylim([0, 1])\n",
        "    plt.ylabel('True Positive Rate')\n",
        "    plt.xlabel('False Positive Rate')\n",
        "    plt.show()"
      ],
      "execution_count": 0,
      "outputs": []
    },
    {
      "cell_type": "code",
      "metadata": {
        "id": "vL7QHsZJO6GS",
        "colab_type": "code",
        "colab": {}
      },
      "source": [
        "#find substrings\n",
        "def return_MRI_serie_of_interest(serie_of_interest):\n",
        "    for i in range (len( training_MRI_imgs_dataframe )):\n",
        "        training_MRI_imgs_dataframe.at[i,\"InterestSequence\"] = False\n",
        "        if (training_MRI_imgs_dataframe.DCMSerDescr.iloc[i].find(serie_of_interest) != -1):\n",
        "            training_MRI_imgs_dataframe.at[i,\"InterestSequence\"] = True\n",
        "\n",
        "    dataframe = training_MRI_imgs_dataframe[ training_MRI_imgs_dataframe.InterestSequence == True ]\n",
        "    return dataframe"
      ],
      "execution_count": 0,
      "outputs": []
    },
    {
      "cell_type": "code",
      "metadata": {
        "id": "1J-q0xeZO6GU",
        "colab_type": "code",
        "colab": {}
      },
      "source": [
        "#DWI-ADC\n",
        "serie_of_interest = \"adc\"\n",
        "dyndist_adc_dataframe = return_MRI_serie_of_interest(serie_of_interest)\n",
        "dyndist_adc_dataframe.reset_index(drop=True)\n",
        "dyndist_adc_dataframe.index = pd.RangeIndex(len(dyndist_adc_dataframe))\n",
        "\n",
        "#t2_tse_sag\n",
        "serie_of_interest = \"t2_tse_sag\"\n",
        "t2_tse_sag_dataframe = return_MRI_serie_of_interest(serie_of_interest)\n",
        "t2_tse_sag_dataframe.reset_index(drop=True)\n",
        "t2_tse_sag_dataframe.index = pd.RangeIndex(len(t2_tse_sag_dataframe))\n",
        "\n",
        "#t2_tse_tra\n",
        "serie_of_interest = \"t2_tse_tra\"\n",
        "t2_tse_tra_dataframe = return_MRI_serie_of_interest(serie_of_interest)\n",
        "t2_tse_tra_dataframe.reset_index(drop=True)\n",
        "t2_tse_tra_dataframe.index = pd.RangeIndex(len(t2_tse_tra_dataframe))\n",
        "\n"
      ],
      "execution_count": 0,
      "outputs": []
    },
    {
      "cell_type": "code",
      "metadata": {
        "id": "oXhuUKV_O6GV",
        "colab_type": "code",
        "colab": {},
        "outputId": "a7eb4bbd-836b-421d-9407-43cb899eb661"
      },
      "source": [
        "list_of_k_findings = []\n",
        "dataframe = training_ktrans_imgs_dataframe\n",
        "print(\"There is a total of {} rows\".format(len(dataframe)))\n",
        "i = 0\n",
        "for patient_id in dataframe.ProxID.unique():\n",
        "    for fid in dataframe[dataframe.ProxID == patient_id].fid.unique():\n",
        "        list_of_k_findings.append(\"{} - {}\".format(patient_id,fid))\n",
        "        i = i + 1\n",
        "print(\"There are {} findings\".format(i))"
      ],
      "execution_count": 0,
      "outputs": [
        {
          "output_type": "stream",
          "text": [
            "There is a total of 339 rows\n",
            "There are 325 findings\n"
          ],
          "name": "stdout"
        }
      ]
    },
    {
      "cell_type": "code",
      "metadata": {
        "scrolled": false,
        "id": "nsm0qNHIO6GY",
        "colab_type": "code",
        "colab": {},
        "outputId": "9841b710-9f80-4639-995f-c456a2a410f8"
      },
      "source": [
        "list_of_adc_findings = []\n",
        "dataframe = dyndist_adc_dataframe\n",
        "print(\"There is a total of {} rows\".format(len(dataframe)))\n",
        "i = 0\n",
        "for patient_id in dataframe.ProxID.unique():\n",
        "    for fid in dataframe[dataframe.ProxID == patient_id].fid.unique():\n",
        "        list_of_adc_findings.append(\"{} - {}\".format(patient_id,fid))\n",
        "        i = i + 1\n",
        "print(\"There are {} findings\".format(i))"
      ],
      "execution_count": 0,
      "outputs": [
        {
          "output_type": "stream",
          "text": [
            "There is a total of 345 rows\n",
            "There are 323 findings\n"
          ],
          "name": "stdout"
        }
      ]
    },
    {
      "cell_type": "code",
      "metadata": {
        "id": "CA-YFgKMO6Ga",
        "colab_type": "code",
        "colab": {},
        "outputId": "018e29ef-f351-43ec-b4ce-738de75df308"
      },
      "source": [
        "list_of_t2_tra_findings = []\n",
        "dataframe = t2_tse_tra_dataframe\n",
        "print(\"There is a total of {} rows\".format(len(dataframe)))\n",
        "i = 0\n",
        "for patient_id in dataframe.ProxID.unique():\n",
        "    for fid in dataframe[dataframe.ProxID == patient_id].fid.unique():\n",
        "        list_of_t2_tra_findings.append(\"{} - {}\".format(patient_id,fid))\n",
        "        i = i + 1\n",
        "print(\"There are {} findings\".format(i))"
      ],
      "execution_count": 0,
      "outputs": [
        {
          "output_type": "stream",
          "text": [
            "There is a total of 415 rows\n",
            "There are 325 findings\n"
          ],
          "name": "stdout"
        }
      ]
    },
    {
      "cell_type": "code",
      "metadata": {
        "id": "eZSRTxuDO6Gd",
        "colab_type": "code",
        "colab": {},
        "outputId": "ec06be5d-397d-4714-e7a2-99a54a2a88cc"
      },
      "source": [
        "list_of_t2_sag_findings = []\n",
        "dataframe = t2_tse_sag_dataframe\n",
        "print(\"There is a total of {} rows\".format(len(dataframe)))\n",
        "i = 0\n",
        "for patient_id in dataframe.ProxID.unique():\n",
        "    for fid in dataframe[dataframe.ProxID == patient_id].fid.unique():\n",
        "        list_of_t2_sag_findings.append(\"{} - {}\".format(patient_id,fid))\n",
        "        i = i + 1\n",
        "print(\"There are {} findings\".format(i))"
      ],
      "execution_count": 0,
      "outputs": [
        {
          "output_type": "stream",
          "text": [
            "There is a total of 363 rows\n",
            "There are 324 findings\n"
          ],
          "name": "stdout"
        }
      ]
    },
    {
      "cell_type": "code",
      "metadata": {
        "id": "3QrZeSBMO6Gg",
        "colab_type": "code",
        "colab": {}
      },
      "source": [
        "list_of_elements_tobe_deleted = []\n",
        "for finding in list_of_k_findings:\n",
        "    if (finding not in  list_of_adc_findings):\n",
        "        if (finding not in list_of_elements_tobe_deleted):\n",
        "            list_of_elements_tobe_deleted.append(finding)\n",
        "            \n",
        "for finding in list_of_k_findings:\n",
        "    if (finding not in  list_of_t2_sag_findings):\n",
        "        if (finding not in list_of_elements_tobe_deleted):\n",
        "            list_of_elements_tobe_deleted.append(finding)\n",
        "            \n",
        "for finding in list_of_k_findings:\n",
        "    if (finding not in  list_of_t2_tra_findings):\n",
        "        if (finding not in list_of_elements_tobe_deleted):\n",
        "            list_of_elements_tobe_deleted.append(finding)"
      ],
      "execution_count": 0,
      "outputs": []
    },
    {
      "cell_type": "code",
      "metadata": {
        "id": "TqDshGZGO6Gh",
        "colab_type": "code",
        "colab": {},
        "outputId": "10f8233a-6a40-47fa-f457-df5170ed366b"
      },
      "source": [
        "list_of_elements_tobe_deleted"
      ],
      "execution_count": 0,
      "outputs": [
        {
          "output_type": "execute_result",
          "data": {
            "text/plain": [
              "['ProstateX-0080 - 1',\n",
              " 'ProstateX-0140 - 2',\n",
              " 'ProstateX-0013 - 1',\n",
              " 'ProstateX-0130 - 1',\n",
              " 'ProstateX-0172 - 1']"
            ]
          },
          "metadata": {
            "tags": []
          },
          "execution_count": 31
        }
      ]
    },
    {
      "cell_type": "code",
      "metadata": {
        "id": "mtLxti-gO6Gj",
        "colab_type": "code",
        "colab": {},
        "outputId": "1158ff4a-08db-4559-e752-b4da6f095a16"
      },
      "source": [
        "dataframe = training_ktrans_imgs_dataframe\n",
        "index_to_delete = []\n",
        "for finding in list_of_elements_tobe_deleted:\n",
        "    ProxID,fid = finding.split(\" - \")\n",
        "    dataframe2 = dataframe[(dataframe.ProxID == ProxID) & (dataframe.fid == int(fid)) ]\n",
        "    if (len(dataframe2) != 0):\n",
        "        index = dataframe2.index[0]\n",
        "        index_to_delete.append(index)\n",
        "        print(index)\n",
        "        dataframe.at[index,\"State\"] = True"
      ],
      "execution_count": 0,
      "outputs": [
        {
          "output_type": "stream",
          "text": [
            "119\n",
            "223\n",
            "21\n",
            "200\n",
            "282\n"
          ],
          "name": "stdout"
        }
      ]
    },
    {
      "cell_type": "code",
      "metadata": {
        "id": "Ai7PaXmMO6Gl",
        "colab_type": "code",
        "colab": {}
      },
      "source": [
        "training_ktrans_imgs_dataframe = training_ktrans_imgs_dataframe.drop(index_to_delete)\n",
        "training_ktrans_imgs_dataframe.reset_index(drop=True)\n",
        "training_ktrans_imgs_dataframe.index = pd.RangeIndex(len(training_ktrans_imgs_dataframe))"
      ],
      "execution_count": 0,
      "outputs": []
    },
    {
      "cell_type": "code",
      "metadata": {
        "id": "kEjLdPq_O6Gn",
        "colab_type": "code",
        "colab": {},
        "outputId": "bd5ea502-4969-42b5-c23b-69826a7ef680"
      },
      "source": [
        "training_ktrans_imgs_dataframe[training_ktrans_imgs_dataframe.State == True][[\"ProxID\",\"fid\",\"State\"]]"
      ],
      "execution_count": 0,
      "outputs": [
        {
          "output_type": "execute_result",
          "data": {
            "text/html": [
              "<div>\n",
              "<style scoped>\n",
              "    .dataframe tbody tr th:only-of-type {\n",
              "        vertical-align: middle;\n",
              "    }\n",
              "\n",
              "    .dataframe tbody tr th {\n",
              "        vertical-align: top;\n",
              "    }\n",
              "\n",
              "    .dataframe thead th {\n",
              "        text-align: right;\n",
              "    }\n",
              "</style>\n",
              "<table border=\"1\" class=\"dataframe\">\n",
              "  <thead>\n",
              "    <tr style=\"text-align: right;\">\n",
              "      <th></th>\n",
              "      <th>ProxID</th>\n",
              "      <th>fid</th>\n",
              "      <th>State</th>\n",
              "    </tr>\n",
              "  </thead>\n",
              "  <tbody>\n",
              "  </tbody>\n",
              "</table>\n",
              "</div>"
            ],
            "text/plain": [
              "Empty DataFrame\n",
              "Columns: [ProxID, fid, State]\n",
              "Index: []"
            ]
          },
          "metadata": {
            "tags": []
          },
          "execution_count": 34
        }
      ]
    },
    {
      "cell_type": "code",
      "metadata": {
        "id": "DNDRphUYO6Gp",
        "colab_type": "code",
        "colab": {},
        "outputId": "4fb570f2-18a8-4103-d11c-4aa412c3b63f"
      },
      "source": [
        "dataframe = dyndist_adc_dataframe\n",
        "index_to_delete = []\n",
        "for finding in list_of_elements_tobe_deleted:\n",
        "    ProxID,fid = finding.split(\" - \")\n",
        "    dataframe2 = dataframe[(dataframe.ProxID == ProxID) & (dataframe.fid == int(fid)) ]\n",
        "    if (len(dataframe2) != 0):\n",
        "        index = dataframe2.index[0]\n",
        "        print(index)\n",
        "        index_to_delete.append(index)\n",
        "        dataframe.at[index,\"State\"] = True"
      ],
      "execution_count": 0,
      "outputs": [
        {
          "output_type": "stream",
          "text": [
            "21\n",
            "201\n",
            "282\n"
          ],
          "name": "stdout"
        }
      ]
    },
    {
      "cell_type": "code",
      "metadata": {
        "id": "GmAf91tKO6Gr",
        "colab_type": "code",
        "colab": {},
        "outputId": "fdc2338d-e32b-4c19-a48f-59af866a9a14"
      },
      "source": [
        "dyndist_adc_dataframe = dyndist_adc_dataframe.drop(index_to_delete)\n",
        "dyndist_adc_dataframe.reset_index(drop=True)\n",
        "dyndist_adc_dataframe.index = pd.RangeIndex(len(dyndist_adc_dataframe))\n",
        "dyndist_adc_dataframe[dyndist_adc_dataframe.State == True][[\"ProxID\",\"fid\",\"State\"]]"
      ],
      "execution_count": 0,
      "outputs": [
        {
          "output_type": "execute_result",
          "data": {
            "text/html": [
              "<div>\n",
              "<style scoped>\n",
              "    .dataframe tbody tr th:only-of-type {\n",
              "        vertical-align: middle;\n",
              "    }\n",
              "\n",
              "    .dataframe tbody tr th {\n",
              "        vertical-align: top;\n",
              "    }\n",
              "\n",
              "    .dataframe thead th {\n",
              "        text-align: right;\n",
              "    }\n",
              "</style>\n",
              "<table border=\"1\" class=\"dataframe\">\n",
              "  <thead>\n",
              "    <tr style=\"text-align: right;\">\n",
              "      <th></th>\n",
              "      <th>ProxID</th>\n",
              "      <th>fid</th>\n",
              "      <th>State</th>\n",
              "    </tr>\n",
              "  </thead>\n",
              "  <tbody>\n",
              "  </tbody>\n",
              "</table>\n",
              "</div>"
            ],
            "text/plain": [
              "Empty DataFrame\n",
              "Columns: [ProxID, fid, State]\n",
              "Index: []"
            ]
          },
          "metadata": {
            "tags": []
          },
          "execution_count": 36
        }
      ]
    },
    {
      "cell_type": "code",
      "metadata": {
        "id": "OKmeve9BO6Gu",
        "colab_type": "code",
        "colab": {},
        "outputId": "73dc6d36-df84-4110-a7a6-fd2306b4d05a"
      },
      "source": [
        "dataframe = t2_tse_sag_dataframe\n",
        "index_to_delete = []\n",
        "for finding in list_of_elements_tobe_deleted:\n",
        "    ProxID,fid = finding.split(\" - \")\n",
        "    dataframe2 = dataframe[(dataframe.ProxID == ProxID) & (dataframe.fid == int(fid)) ]\n",
        "    if (len(dataframe2) != 0):\n",
        "        index = dataframe2.index[0]\n",
        "        index_to_delete.append(index)\n",
        "        print(index)\n",
        "        dataframe.at[index,\"State\"] = True"
      ],
      "execution_count": 0,
      "outputs": [
        {
          "output_type": "stream",
          "text": [
            "128\n",
            "239\n"
          ],
          "name": "stdout"
        }
      ]
    },
    {
      "cell_type": "code",
      "metadata": {
        "id": "LScqSzXoO6Gw",
        "colab_type": "code",
        "colab": {},
        "outputId": "1e566a8c-5a4f-4335-c903-86c531144694"
      },
      "source": [
        "t2_tse_sag_dataframe = t2_tse_sag_dataframe.drop(index_to_delete)\n",
        "t2_tse_sag_dataframe.reset_index(drop=True)\n",
        "t2_tse_sag_dataframe.index = pd.RangeIndex(len(t2_tse_sag_dataframe))\n",
        "t2_tse_sag_dataframe[t2_tse_sag_dataframe.State == True][[\"ProxID\",\"fid\",\"State\"]]"
      ],
      "execution_count": 0,
      "outputs": [
        {
          "output_type": "execute_result",
          "data": {
            "text/html": [
              "<div>\n",
              "<style scoped>\n",
              "    .dataframe tbody tr th:only-of-type {\n",
              "        vertical-align: middle;\n",
              "    }\n",
              "\n",
              "    .dataframe tbody tr th {\n",
              "        vertical-align: top;\n",
              "    }\n",
              "\n",
              "    .dataframe thead th {\n",
              "        text-align: right;\n",
              "    }\n",
              "</style>\n",
              "<table border=\"1\" class=\"dataframe\">\n",
              "  <thead>\n",
              "    <tr style=\"text-align: right;\">\n",
              "      <th></th>\n",
              "      <th>ProxID</th>\n",
              "      <th>fid</th>\n",
              "      <th>State</th>\n",
              "    </tr>\n",
              "  </thead>\n",
              "  <tbody>\n",
              "  </tbody>\n",
              "</table>\n",
              "</div>"
            ],
            "text/plain": [
              "Empty DataFrame\n",
              "Columns: [ProxID, fid, State]\n",
              "Index: []"
            ]
          },
          "metadata": {
            "tags": []
          },
          "execution_count": 38
        }
      ]
    },
    {
      "cell_type": "code",
      "metadata": {
        "id": "I6AejSbvO6Gy",
        "colab_type": "code",
        "colab": {},
        "outputId": "7fec923b-00ca-41db-d9c6-aa0a4a1fbb7c"
      },
      "source": [
        "dataframe = t2_tse_tra_dataframe\n",
        "index_to_delete = []\n",
        "for finding in list_of_elements_tobe_deleted:\n",
        "    ProxID,fid = finding.split(\" - \")\n",
        "    dataframe2 = dataframe[(dataframe.ProxID == ProxID) & (dataframe.fid == int(fid)) ]\n",
        "    if (len(dataframe2) != 0):\n",
        "        index = dataframe2.index[0]\n",
        "        print(index)\n",
        "        index_to_delete.append(index)\n",
        "        dataframe.at[index,\"State\"] = True"
      ],
      "execution_count": 0,
      "outputs": [
        {
          "output_type": "stream",
          "text": [
            "136\n",
            "263\n",
            "24\n",
            "239\n",
            "343\n"
          ],
          "name": "stdout"
        }
      ]
    },
    {
      "cell_type": "code",
      "metadata": {
        "id": "WwwyaC0_O6G1",
        "colab_type": "code",
        "colab": {},
        "outputId": "90b27403-7bef-447c-cfd1-2a66dd620112"
      },
      "source": [
        "t2_tse_tra_dataframe = t2_tse_tra_dataframe.drop(index_to_delete)\n",
        "t2_tse_tra_dataframe.reset_index(drop=True)\n",
        "t2_tse_tra_dataframe.index = pd.RangeIndex(len(t2_tse_tra_dataframe))\n",
        "t2_tse_tra_dataframe[t2_tse_tra_dataframe.State == True][[\"ProxID\",\"fid\",\"State\"]]"
      ],
      "execution_count": 0,
      "outputs": [
        {
          "output_type": "execute_result",
          "data": {
            "text/html": [
              "<div>\n",
              "<style scoped>\n",
              "    .dataframe tbody tr th:only-of-type {\n",
              "        vertical-align: middle;\n",
              "    }\n",
              "\n",
              "    .dataframe tbody tr th {\n",
              "        vertical-align: top;\n",
              "    }\n",
              "\n",
              "    .dataframe thead th {\n",
              "        text-align: right;\n",
              "    }\n",
              "</style>\n",
              "<table border=\"1\" class=\"dataframe\">\n",
              "  <thead>\n",
              "    <tr style=\"text-align: right;\">\n",
              "      <th></th>\n",
              "      <th>ProxID</th>\n",
              "      <th>fid</th>\n",
              "      <th>State</th>\n",
              "    </tr>\n",
              "  </thead>\n",
              "  <tbody>\n",
              "  </tbody>\n",
              "</table>\n",
              "</div>"
            ],
            "text/plain": [
              "Empty DataFrame\n",
              "Columns: [ProxID, fid, State]\n",
              "Index: []"
            ]
          },
          "metadata": {
            "tags": []
          },
          "execution_count": 40
        }
      ]
    },
    {
      "cell_type": "code",
      "metadata": {
        "id": "JLIpoiXbO6G3",
        "colab_type": "code",
        "colab": {},
        "outputId": "d7f53f8e-c76b-4e82-8f11-9c0c2ed12b31"
      },
      "source": [
        "print(len(training_ktrans_imgs_dataframe))\n",
        "print(len(t2_tse_sag_dataframe))\n",
        "print(len(t2_tse_tra_dataframe))\n",
        "print(len(dyndist_adc_dataframe))"
      ],
      "execution_count": 0,
      "outputs": [
        {
          "output_type": "stream",
          "text": [
            "334\n",
            "361\n",
            "410\n",
            "342\n"
          ],
          "name": "stdout"
        }
      ]
    },
    {
      "cell_type": "code",
      "metadata": {
        "id": "bhiHy-JCO6G6",
        "colab_type": "code",
        "colab": {}
      },
      "source": [
        "dyndist_adc_dataframe.to_pickle(\"pickle/dyndist_adc_dataframe.pickle\")\n",
        "training_ktrans_imgs_dataframe.to_pickle(\"pickle/ktrans_dataframe.pickle\")\n",
        "t2_tse_sag_dataframe.to_pickle(\"pickle/t2_tse_sag_dataframe.pickle\")\n",
        "\n"
      ],
      "execution_count": 0,
      "outputs": []
    },
    {
      "cell_type": "code",
      "metadata": {
        "id": "8DUG-kDlO6HA",
        "colab_type": "code",
        "colab": {}
      },
      "source": [
        "t2_tse_tra_dataframe.to_pickle(\"pickle/t2_tse_tra_dataframe.pickle\")"
      ],
      "execution_count": 0,
      "outputs": []
    }
  ]
}